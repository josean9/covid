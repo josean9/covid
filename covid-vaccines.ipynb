{
 "cells": [
  {
   "cell_type": "markdown",
   "metadata": {},
   "source": [
    "# Importamos Librerias"
   ]
  },
  {
   "cell_type": "code",
   "execution_count": 5,
   "metadata": {},
   "outputs": [],
   "source": [
    "import pandas as pd\n",
    "import seaborn as sns\n",
    "import matplotlib.pyplot as plt\n",
    "import numpy as np\n",
    "%matplotlib inline"
   ]
  },
  {
   "cell_type": "markdown",
   "metadata": {},
   "source": [
    "# Visualizacion del Datsaset"
   ]
  },
  {
   "cell_type": "markdown",
   "metadata": {},
   "source": [
    "Fijamos lo parametros, con pandas leemos el csv y mediante .head() imrimimos las primeras filas"
   ]
  },
  {
   "cell_type": "code",
   "execution_count": 6,
   "metadata": {},
   "outputs": [],
   "source": [
    "# Modificamos los parámetros de los gráficos en matplotlib\n",
    "from matplotlib.pyplot import rcParams\n",
    "\n",
    "rcParams['figure.figsize'] = 12, 6 # el primer dígito es el ancho y el segundo el alto\n",
    "rcParams[\"font.weight\"] = \"bold\"\n",
    "rcParams[\"font.size\"] = 10\n",
    "rcParams[\"axes.labelweight\"] = \"bold\"\n",
    "\n",
    "df_tweets = pd.read_csv(\"vaccination_all_tweets.csv\")"
   ]
  },
  {
   "cell_type": "code",
   "execution_count": 7,
   "metadata": {},
   "outputs": [
    {
     "data": {
      "text/html": [
       "<div>\n",
       "<style scoped>\n",
       "    .dataframe tbody tr th:only-of-type {\n",
       "        vertical-align: middle;\n",
       "    }\n",
       "\n",
       "    .dataframe tbody tr th {\n",
       "        vertical-align: top;\n",
       "    }\n",
       "\n",
       "    .dataframe thead th {\n",
       "        text-align: right;\n",
       "    }\n",
       "</style>\n",
       "<table border=\"1\" class=\"dataframe\">\n",
       "  <thead>\n",
       "    <tr style=\"text-align: right;\">\n",
       "      <th></th>\n",
       "      <th>id</th>\n",
       "      <th>user_name</th>\n",
       "      <th>user_location</th>\n",
       "      <th>user_description</th>\n",
       "      <th>user_created</th>\n",
       "      <th>user_followers</th>\n",
       "      <th>user_friends</th>\n",
       "      <th>user_favourites</th>\n",
       "      <th>user_verified</th>\n",
       "      <th>date</th>\n",
       "      <th>text</th>\n",
       "      <th>hashtags</th>\n",
       "      <th>source</th>\n",
       "      <th>retweets</th>\n",
       "      <th>favorites</th>\n",
       "      <th>is_retweet</th>\n",
       "    </tr>\n",
       "  </thead>\n",
       "  <tbody>\n",
       "    <tr>\n",
       "      <th>0</th>\n",
       "      <td>1340539111971516416</td>\n",
       "      <td>Rachel Roh</td>\n",
       "      <td>La Crescenta-Montrose, CA</td>\n",
       "      <td>Aggregator of Asian American news; scanning di...</td>\n",
       "      <td>2009-04-08 17:52:46</td>\n",
       "      <td>405</td>\n",
       "      <td>1692</td>\n",
       "      <td>3247</td>\n",
       "      <td>False</td>\n",
       "      <td>2020-12-20 06:06:44</td>\n",
       "      <td>Same folks said daikon paste could treat a cyt...</td>\n",
       "      <td>['PfizerBioNTech']</td>\n",
       "      <td>Twitter for Android</td>\n",
       "      <td>0</td>\n",
       "      <td>0</td>\n",
       "      <td>False</td>\n",
       "    </tr>\n",
       "    <tr>\n",
       "      <th>1</th>\n",
       "      <td>1338158543359250433</td>\n",
       "      <td>Albert Fong</td>\n",
       "      <td>San Francisco, CA</td>\n",
       "      <td>Marketing dude, tech geek, heavy metal &amp; '80s ...</td>\n",
       "      <td>2009-09-21 15:27:30</td>\n",
       "      <td>834</td>\n",
       "      <td>666</td>\n",
       "      <td>178</td>\n",
       "      <td>False</td>\n",
       "      <td>2020-12-13 16:27:13</td>\n",
       "      <td>While the world has been on the wrong side of ...</td>\n",
       "      <td>NaN</td>\n",
       "      <td>Twitter Web App</td>\n",
       "      <td>1</td>\n",
       "      <td>1</td>\n",
       "      <td>False</td>\n",
       "    </tr>\n",
       "    <tr>\n",
       "      <th>2</th>\n",
       "      <td>1337858199140118533</td>\n",
       "      <td>eli🇱🇹🇪🇺👌</td>\n",
       "      <td>Your Bed</td>\n",
       "      <td>heil, hydra 🖐☺</td>\n",
       "      <td>2020-06-25 23:30:28</td>\n",
       "      <td>10</td>\n",
       "      <td>88</td>\n",
       "      <td>155</td>\n",
       "      <td>False</td>\n",
       "      <td>2020-12-12 20:33:45</td>\n",
       "      <td>#coronavirus #SputnikV #AstraZeneca #PfizerBio...</td>\n",
       "      <td>['coronavirus', 'SputnikV', 'AstraZeneca', 'Pf...</td>\n",
       "      <td>Twitter for Android</td>\n",
       "      <td>0</td>\n",
       "      <td>0</td>\n",
       "      <td>False</td>\n",
       "    </tr>\n",
       "  </tbody>\n",
       "</table>\n",
       "</div>"
      ],
      "text/plain": [
       "                    id    user_name              user_location  \\\n",
       "0  1340539111971516416   Rachel Roh  La Crescenta-Montrose, CA   \n",
       "1  1338158543359250433  Albert Fong          San Francisco, CA   \n",
       "2  1337858199140118533     eli🇱🇹🇪🇺👌                   Your Bed   \n",
       "\n",
       "                                    user_description         user_created  \\\n",
       "0  Aggregator of Asian American news; scanning di...  2009-04-08 17:52:46   \n",
       "1  Marketing dude, tech geek, heavy metal & '80s ...  2009-09-21 15:27:30   \n",
       "2                                     heil, hydra 🖐☺  2020-06-25 23:30:28   \n",
       "\n",
       "   user_followers  user_friends  user_favourites  user_verified  \\\n",
       "0             405          1692             3247          False   \n",
       "1             834           666              178          False   \n",
       "2              10            88              155          False   \n",
       "\n",
       "                  date                                               text  \\\n",
       "0  2020-12-20 06:06:44  Same folks said daikon paste could treat a cyt...   \n",
       "1  2020-12-13 16:27:13  While the world has been on the wrong side of ...   \n",
       "2  2020-12-12 20:33:45  #coronavirus #SputnikV #AstraZeneca #PfizerBio...   \n",
       "\n",
       "                                            hashtags               source  \\\n",
       "0                                 ['PfizerBioNTech']  Twitter for Android   \n",
       "1                                                NaN      Twitter Web App   \n",
       "2  ['coronavirus', 'SputnikV', 'AstraZeneca', 'Pf...  Twitter for Android   \n",
       "\n",
       "   retweets  favorites  is_retweet  \n",
       "0         0          0       False  \n",
       "1         1          1       False  \n",
       "2         0          0       False  "
      ]
     },
     "execution_count": 7,
     "metadata": {},
     "output_type": "execute_result"
    }
   ],
   "source": [
    "df_tweets.head(3)"
   ]
  },
  {
   "cell_type": "markdown",
   "metadata": {},
   "source": [
    "# Limpieza del dataset"
   ]
  },
  {
   "cell_type": "markdown",
   "metadata": {},
   "source": [
    "Vamos a hacer una limpieza de nuestro dataset de forma que eliminemos todos aquellos datos nulos o bien que se repitan, eliminemos aquellas columnas cuya informacion no es relevante "
   ]
  },
  {
   "cell_type": "markdown",
   "metadata": {},
   "source": [
    "## Datos nulos"
   ]
  },
  {
   "cell_type": "markdown",
   "metadata": {},
   "source": [
    "Comprobamos el numero de datos nulos con el metodo .isna().sum() y el tipo de dato de cada columna con el .info()"
   ]
  },
  {
   "cell_type": "code",
   "execution_count": 8,
   "metadata": {},
   "outputs": [
    {
     "data": {
      "text/plain": [
       "id                      0\n",
       "user_name               2\n",
       "user_location       66911\n",
       "user_description    17018\n",
       "user_created            0\n",
       "user_followers          0\n",
       "user_friends            0\n",
       "user_favourites         0\n",
       "user_verified           0\n",
       "date                    0\n",
       "text                    0\n",
       "hashtags            49703\n",
       "source                119\n",
       "retweets                0\n",
       "favorites               0\n",
       "is_retweet              0\n",
       "dtype: int64"
      ]
     },
     "execution_count": 8,
     "metadata": {},
     "output_type": "execute_result"
    }
   ],
   "source": [
    "df_tweets.isna().sum() "
   ]
  },
  {
   "cell_type": "code",
   "execution_count": 9,
   "metadata": {},
   "outputs": [
    {
     "name": "stdout",
     "output_type": "stream",
     "text": [
      "<class 'pandas.core.frame.DataFrame'>\n",
      "RangeIndex: 228207 entries, 0 to 228206\n",
      "Data columns (total 16 columns):\n",
      " #   Column            Non-Null Count   Dtype \n",
      "---  ------            --------------   ----- \n",
      " 0   id                228207 non-null  int64 \n",
      " 1   user_name         228205 non-null  object\n",
      " 2   user_location     161296 non-null  object\n",
      " 3   user_description  211189 non-null  object\n",
      " 4   user_created      228207 non-null  object\n",
      " 5   user_followers    228207 non-null  int64 \n",
      " 6   user_friends      228207 non-null  int64 \n",
      " 7   user_favourites   228207 non-null  int64 \n",
      " 8   user_verified     228207 non-null  bool  \n",
      " 9   date              228207 non-null  object\n",
      " 10  text              228207 non-null  object\n",
      " 11  hashtags          178504 non-null  object\n",
      " 12  source            228088 non-null  object\n",
      " 13  retweets          228207 non-null  int64 \n",
      " 14  favorites         228207 non-null  int64 \n",
      " 15  is_retweet        228207 non-null  bool  \n",
      "dtypes: bool(2), int64(6), object(8)\n",
      "memory usage: 24.8+ MB\n"
     ]
    }
   ],
   "source": [
    "df_tweets.info()"
   ]
  },
  {
   "cell_type": "markdown",
   "metadata": {},
   "source": [
    "Obtenemos datos estadisticos interesantes como la media, desviacion tipica..."
   ]
  },
  {
   "cell_type": "code",
   "execution_count": 10,
   "metadata": {},
   "outputs": [
    {
     "data": {
      "text/html": [
       "<div>\n",
       "<style scoped>\n",
       "    .dataframe tbody tr th:only-of-type {\n",
       "        vertical-align: middle;\n",
       "    }\n",
       "\n",
       "    .dataframe tbody tr th {\n",
       "        vertical-align: top;\n",
       "    }\n",
       "\n",
       "    .dataframe thead th {\n",
       "        text-align: right;\n",
       "    }\n",
       "</style>\n",
       "<table border=\"1\" class=\"dataframe\">\n",
       "  <thead>\n",
       "    <tr style=\"text-align: right;\">\n",
       "      <th></th>\n",
       "      <th>id</th>\n",
       "      <th>user_followers</th>\n",
       "      <th>user_friends</th>\n",
       "      <th>user_favourites</th>\n",
       "      <th>retweets</th>\n",
       "      <th>favorites</th>\n",
       "    </tr>\n",
       "  </thead>\n",
       "  <tbody>\n",
       "    <tr>\n",
       "      <th>count</th>\n",
       "      <td>2.282070e+05</td>\n",
       "      <td>228207.00</td>\n",
       "      <td>228207.00</td>\n",
       "      <td>228207.00</td>\n",
       "      <td>228207.00</td>\n",
       "      <td>228207.00</td>\n",
       "    </tr>\n",
       "    <tr>\n",
       "      <th>mean</th>\n",
       "      <td>1.407541e+18</td>\n",
       "      <td>96053.93</td>\n",
       "      <td>986.74</td>\n",
       "      <td>12104.17</td>\n",
       "      <td>2.49</td>\n",
       "      <td>10.82</td>\n",
       "    </tr>\n",
       "    <tr>\n",
       "      <th>std</th>\n",
       "      <td>2.908485e+16</td>\n",
       "      <td>838905.31</td>\n",
       "      <td>5293.50</td>\n",
       "      <td>39082.33</td>\n",
       "      <td>51.08</td>\n",
       "      <td>199.53</td>\n",
       "    </tr>\n",
       "    <tr>\n",
       "      <th>min</th>\n",
       "      <td>1.337728e+18</td>\n",
       "      <td>0.00</td>\n",
       "      <td>0.00</td>\n",
       "      <td>0.00</td>\n",
       "      <td>0.00</td>\n",
       "      <td>0.00</td>\n",
       "    </tr>\n",
       "    <tr>\n",
       "      <th>25%</th>\n",
       "      <td>1.381940e+18</td>\n",
       "      <td>55.00</td>\n",
       "      <td>27.00</td>\n",
       "      <td>57.00</td>\n",
       "      <td>0.00</td>\n",
       "      <td>0.00</td>\n",
       "    </tr>\n",
       "    <tr>\n",
       "      <th>50%</th>\n",
       "      <td>1.408133e+18</td>\n",
       "      <td>328.00</td>\n",
       "      <td>229.00</td>\n",
       "      <td>996.00</td>\n",
       "      <td>0.00</td>\n",
       "      <td>0.00</td>\n",
       "    </tr>\n",
       "    <tr>\n",
       "      <th>75%</th>\n",
       "      <td>1.428688e+18</td>\n",
       "      <td>1521.00</td>\n",
       "      <td>794.00</td>\n",
       "      <td>7300.00</td>\n",
       "      <td>1.00</td>\n",
       "      <td>2.00</td>\n",
       "    </tr>\n",
       "    <tr>\n",
       "      <th>max</th>\n",
       "      <td>1.463251e+18</td>\n",
       "      <td>16353048.00</td>\n",
       "      <td>582461.00</td>\n",
       "      <td>1299600.00</td>\n",
       "      <td>12294.00</td>\n",
       "      <td>54017.00</td>\n",
       "    </tr>\n",
       "  </tbody>\n",
       "</table>\n",
       "</div>"
      ],
      "text/plain": [
       "                 id  user_followers  user_friends  user_favourites   retweets  \\\n",
       "count  2.282070e+05       228207.00     228207.00        228207.00  228207.00   \n",
       "mean   1.407541e+18        96053.93        986.74         12104.17       2.49   \n",
       "std    2.908485e+16       838905.31       5293.50         39082.33      51.08   \n",
       "min    1.337728e+18            0.00          0.00             0.00       0.00   \n",
       "25%    1.381940e+18           55.00         27.00            57.00       0.00   \n",
       "50%    1.408133e+18          328.00        229.00           996.00       0.00   \n",
       "75%    1.428688e+18         1521.00        794.00          7300.00       1.00   \n",
       "max    1.463251e+18     16353048.00     582461.00       1299600.00   12294.00   \n",
       "\n",
       "       favorites  \n",
       "count  228207.00  \n",
       "mean       10.82  \n",
       "std       199.53  \n",
       "min         0.00  \n",
       "25%         0.00  \n",
       "50%         0.00  \n",
       "75%         2.00  \n",
       "max     54017.00  "
      ]
     },
     "execution_count": 10,
     "metadata": {},
     "output_type": "execute_result"
    }
   ],
   "source": [
    "round(df_tweets.describe(), 2)"
   ]
  },
  {
   "cell_type": "markdown",
   "metadata": {},
   "source": [
    "Eliminamos los valores nulos mediante el metodo .dropna()"
   ]
  },
  {
   "cell_type": "code",
   "execution_count": 11,
   "metadata": {},
   "outputs": [],
   "source": [
    "df_tweets = df_tweets.dropna()"
   ]
  },
  {
   "cell_type": "markdown",
   "metadata": {},
   "source": [
    "Observamos como no hay datos nulos"
   ]
  },
  {
   "cell_type": "code",
   "execution_count": 12,
   "metadata": {},
   "outputs": [
    {
     "data": {
      "text/plain": [
       "id                  0\n",
       "user_name           0\n",
       "user_location       0\n",
       "user_description    0\n",
       "user_created        0\n",
       "user_followers      0\n",
       "user_friends        0\n",
       "user_favourites     0\n",
       "user_verified       0\n",
       "date                0\n",
       "text                0\n",
       "hashtags            0\n",
       "source              0\n",
       "retweets            0\n",
       "favorites           0\n",
       "is_retweet          0\n",
       "dtype: int64"
      ]
     },
     "execution_count": 12,
     "metadata": {},
     "output_type": "execute_result"
    }
   ],
   "source": [
    "df_tweets.isna().sum() "
   ]
  },
  {
   "cell_type": "markdown",
   "metadata": {},
   "source": [
    "## Datos repetidos"
   ]
  },
  {
   "cell_type": "code",
   "execution_count": 13,
   "metadata": {},
   "outputs": [
    {
     "name": "stdout",
     "output_type": "stream",
     "text": [
      "Hay 0 datos repetidos\n"
     ]
    }
   ],
   "source": [
    "datos_repetidos = df_tweets.duplicated().sum()\n",
    "print(\"Hay {} datos repetidos\".format(datos_repetidos))"
   ]
  },
  {
   "cell_type": "markdown",
   "metadata": {},
   "source": [
    "## Columnas innecesarias"
   ]
  },
  {
   "cell_type": "code",
   "execution_count": 14,
   "metadata": {},
   "outputs": [
    {
     "data": {
      "text/plain": [
       "user_name           object\n",
       "user_location       object\n",
       "user_description    object\n",
       "user_created        object\n",
       "date                object\n",
       "text                object\n",
       "hashtags            object\n",
       "source              object\n",
       "dtype: object"
      ]
     },
     "execution_count": 14,
     "metadata": {},
     "output_type": "execute_result"
    }
   ],
   "source": [
    "df_tweets.dtypes[df_tweets.dtypes == \"object\"]"
   ]
  },
  {
   "cell_type": "markdown",
   "metadata": {},
   "source": [
    "Las columnas que no nos dan ningun tipo de dato como el name_user o la user_description las eliminamos ya que no tienen relevancia"
   ]
  },
  {
   "cell_type": "code",
   "execution_count": 18,
   "metadata": {},
   "outputs": [],
   "source": [
    "columnas_no_informativas = [\"user_name\", \"user_description\", \"user_created\", \"retweets\",\"favorites\", \"is_retweet\"]\n",
    "df_tweets_2 = df_tweets.drop(columns = columnas_no_informativas)"
   ]
  },
  {
   "cell_type": "code",
   "execution_count": 19,
   "metadata": {},
   "outputs": [
    {
     "data": {
      "text/html": [
       "<div>\n",
       "<style scoped>\n",
       "    .dataframe tbody tr th:only-of-type {\n",
       "        vertical-align: middle;\n",
       "    }\n",
       "\n",
       "    .dataframe tbody tr th {\n",
       "        vertical-align: top;\n",
       "    }\n",
       "\n",
       "    .dataframe thead th {\n",
       "        text-align: right;\n",
       "    }\n",
       "</style>\n",
       "<table border=\"1\" class=\"dataframe\">\n",
       "  <thead>\n",
       "    <tr style=\"text-align: right;\">\n",
       "      <th></th>\n",
       "      <th>id</th>\n",
       "      <th>user_location</th>\n",
       "      <th>user_followers</th>\n",
       "      <th>user_friends</th>\n",
       "      <th>user_favourites</th>\n",
       "      <th>user_verified</th>\n",
       "      <th>date</th>\n",
       "      <th>text</th>\n",
       "      <th>hashtags</th>\n",
       "      <th>source</th>\n",
       "    </tr>\n",
       "  </thead>\n",
       "  <tbody>\n",
       "    <tr>\n",
       "      <th>0</th>\n",
       "      <td>1340539111971516416</td>\n",
       "      <td>La Crescenta-Montrose, CA</td>\n",
       "      <td>405</td>\n",
       "      <td>1692</td>\n",
       "      <td>3247</td>\n",
       "      <td>False</td>\n",
       "      <td>2020-12-20 06:06:44</td>\n",
       "      <td>Same folks said daikon paste could treat a cyt...</td>\n",
       "      <td>['PfizerBioNTech']</td>\n",
       "      <td>Twitter for Android</td>\n",
       "    </tr>\n",
       "    <tr>\n",
       "      <th>2</th>\n",
       "      <td>1337858199140118533</td>\n",
       "      <td>Your Bed</td>\n",
       "      <td>10</td>\n",
       "      <td>88</td>\n",
       "      <td>155</td>\n",
       "      <td>False</td>\n",
       "      <td>2020-12-12 20:33:45</td>\n",
       "      <td>#coronavirus #SputnikV #AstraZeneca #PfizerBio...</td>\n",
       "      <td>['coronavirus', 'SputnikV', 'AstraZeneca', 'Pf...</td>\n",
       "      <td>Twitter for Android</td>\n",
       "    </tr>\n",
       "    <tr>\n",
       "      <th>6</th>\n",
       "      <td>1337851215875608579</td>\n",
       "      <td>Austria, Ukraine and Kosovo</td>\n",
       "      <td>2731</td>\n",
       "      <td>5001</td>\n",
       "      <td>69344</td>\n",
       "      <td>False</td>\n",
       "      <td>2020-12-12 20:06:00</td>\n",
       "      <td>it is a bit sad to claim the fame for success ...</td>\n",
       "      <td>['vaccination']</td>\n",
       "      <td>Twitter Web App</td>\n",
       "    </tr>\n",
       "    <tr>\n",
       "      <th>9</th>\n",
       "      <td>1337842295857623042</td>\n",
       "      <td>Islamabad</td>\n",
       "      <td>671</td>\n",
       "      <td>2368</td>\n",
       "      <td>20469</td>\n",
       "      <td>False</td>\n",
       "      <td>2020-12-12 19:30:33</td>\n",
       "      <td>#CovidVaccine \\n\\nStates will start getting #C...</td>\n",
       "      <td>['CovidVaccine', 'COVID19Vaccine', 'US', 'paku...</td>\n",
       "      <td>Twitter Web App</td>\n",
       "    </tr>\n",
       "    <tr>\n",
       "      <th>10</th>\n",
       "      <td>1337841934170255365</td>\n",
       "      <td>Turkey-Israel</td>\n",
       "      <td>1302</td>\n",
       "      <td>78</td>\n",
       "      <td>339</td>\n",
       "      <td>False</td>\n",
       "      <td>2020-12-12 19:29:07</td>\n",
       "      <td>while deaths are closing in on the 300,000 mar...</td>\n",
       "      <td>['PfizerBioNTech', 'Vaccine']</td>\n",
       "      <td>Twitter Web App</td>\n",
       "    </tr>\n",
       "    <tr>\n",
       "      <th>...</th>\n",
       "      <td>...</td>\n",
       "      <td>...</td>\n",
       "      <td>...</td>\n",
       "      <td>...</td>\n",
       "      <td>...</td>\n",
       "      <td>...</td>\n",
       "      <td>...</td>\n",
       "      <td>...</td>\n",
       "      <td>...</td>\n",
       "      <td>...</td>\n",
       "    </tr>\n",
       "    <tr>\n",
       "      <th>228202</th>\n",
       "      <td>1460170772299665408</td>\n",
       "      <td>Bengaluru, India</td>\n",
       "      <td>31</td>\n",
       "      <td>0</td>\n",
       "      <td>0</td>\n",
       "      <td>False</td>\n",
       "      <td>2021-11-15 09:00:15</td>\n",
       "      <td>45+ #URBAN #Bengaluru #CovidVaccine Availabili...</td>\n",
       "      <td>['URBAN', 'Bengaluru', 'CovidVaccine', 'COVISH...</td>\n",
       "      <td>VaxBlr</td>\n",
       "    </tr>\n",
       "    <tr>\n",
       "      <th>228203</th>\n",
       "      <td>1460163268262051841</td>\n",
       "      <td>Bengaluru, India</td>\n",
       "      <td>31</td>\n",
       "      <td>0</td>\n",
       "      <td>0</td>\n",
       "      <td>False</td>\n",
       "      <td>2021-11-15 08:30:26</td>\n",
       "      <td>18-44 #BBMP #Bengaluru #CovidVaccine Availabil...</td>\n",
       "      <td>['BBMP', 'Bengaluru', 'CovidVaccine', 'COVISHI...</td>\n",
       "      <td>VaxBlr</td>\n",
       "    </tr>\n",
       "    <tr>\n",
       "      <th>228204</th>\n",
       "      <td>1460163224221851655</td>\n",
       "      <td>Bengaluru, India</td>\n",
       "      <td>31</td>\n",
       "      <td>0</td>\n",
       "      <td>0</td>\n",
       "      <td>False</td>\n",
       "      <td>2021-11-15 08:30:15</td>\n",
       "      <td>18-44 #URBAN #Bengaluru #CovidVaccine Availabi...</td>\n",
       "      <td>['URBAN', 'Bengaluru', 'CovidVaccine', 'COVISH...</td>\n",
       "      <td>VaxBlr</td>\n",
       "    </tr>\n",
       "    <tr>\n",
       "      <th>228205</th>\n",
       "      <td>1460156376995573765</td>\n",
       "      <td>Southern  Africa</td>\n",
       "      <td>8103</td>\n",
       "      <td>3113</td>\n",
       "      <td>45726</td>\n",
       "      <td>False</td>\n",
       "      <td>2021-11-15 08:03:03</td>\n",
       "      <td>They promote their Vaccines leaving out the st...</td>\n",
       "      <td>['SputnikV']</td>\n",
       "      <td>Twitter for Android</td>\n",
       "    </tr>\n",
       "    <tr>\n",
       "      <th>228206</th>\n",
       "      <td>1460155671140134912</td>\n",
       "      <td>Bengaluru, India</td>\n",
       "      <td>31</td>\n",
       "      <td>0</td>\n",
       "      <td>0</td>\n",
       "      <td>False</td>\n",
       "      <td>2021-11-15 08:00:15</td>\n",
       "      <td>45+ #URBAN #Bengaluru #CovidVaccine Availabili...</td>\n",
       "      <td>['URBAN', 'Bengaluru', 'CovidVaccine', 'COVISH...</td>\n",
       "      <td>VaxBlr</td>\n",
       "    </tr>\n",
       "  </tbody>\n",
       "</table>\n",
       "<p>116057 rows × 10 columns</p>\n",
       "</div>"
      ],
      "text/plain": [
       "                         id                user_location  user_followers  \\\n",
       "0       1340539111971516416    La Crescenta-Montrose, CA             405   \n",
       "2       1337858199140118533                     Your Bed              10   \n",
       "6       1337851215875608579  Austria, Ukraine and Kosovo            2731   \n",
       "9       1337842295857623042                    Islamabad             671   \n",
       "10      1337841934170255365                Turkey-Israel            1302   \n",
       "...                     ...                          ...             ...   \n",
       "228202  1460170772299665408             Bengaluru, India              31   \n",
       "228203  1460163268262051841             Bengaluru, India              31   \n",
       "228204  1460163224221851655             Bengaluru, India              31   \n",
       "228205  1460156376995573765            Southern  Africa             8103   \n",
       "228206  1460155671140134912             Bengaluru, India              31   \n",
       "\n",
       "        user_friends  user_favourites  user_verified                 date  \\\n",
       "0               1692             3247          False  2020-12-20 06:06:44   \n",
       "2                 88              155          False  2020-12-12 20:33:45   \n",
       "6               5001            69344          False  2020-12-12 20:06:00   \n",
       "9               2368            20469          False  2020-12-12 19:30:33   \n",
       "10                78              339          False  2020-12-12 19:29:07   \n",
       "...              ...              ...            ...                  ...   \n",
       "228202             0                0          False  2021-11-15 09:00:15   \n",
       "228203             0                0          False  2021-11-15 08:30:26   \n",
       "228204             0                0          False  2021-11-15 08:30:15   \n",
       "228205          3113            45726          False  2021-11-15 08:03:03   \n",
       "228206             0                0          False  2021-11-15 08:00:15   \n",
       "\n",
       "                                                     text  \\\n",
       "0       Same folks said daikon paste could treat a cyt...   \n",
       "2       #coronavirus #SputnikV #AstraZeneca #PfizerBio...   \n",
       "6       it is a bit sad to claim the fame for success ...   \n",
       "9       #CovidVaccine \\n\\nStates will start getting #C...   \n",
       "10      while deaths are closing in on the 300,000 mar...   \n",
       "...                                                   ...   \n",
       "228202  45+ #URBAN #Bengaluru #CovidVaccine Availabili...   \n",
       "228203  18-44 #BBMP #Bengaluru #CovidVaccine Availabil...   \n",
       "228204  18-44 #URBAN #Bengaluru #CovidVaccine Availabi...   \n",
       "228205  They promote their Vaccines leaving out the st...   \n",
       "228206  45+ #URBAN #Bengaluru #CovidVaccine Availabili...   \n",
       "\n",
       "                                                 hashtags               source  \n",
       "0                                      ['PfizerBioNTech']  Twitter for Android  \n",
       "2       ['coronavirus', 'SputnikV', 'AstraZeneca', 'Pf...  Twitter for Android  \n",
       "6                                         ['vaccination']      Twitter Web App  \n",
       "9       ['CovidVaccine', 'COVID19Vaccine', 'US', 'paku...      Twitter Web App  \n",
       "10                          ['PfizerBioNTech', 'Vaccine']      Twitter Web App  \n",
       "...                                                   ...                  ...  \n",
       "228202  ['URBAN', 'Bengaluru', 'CovidVaccine', 'COVISH...               VaxBlr  \n",
       "228203  ['BBMP', 'Bengaluru', 'CovidVaccine', 'COVISHI...               VaxBlr  \n",
       "228204  ['URBAN', 'Bengaluru', 'CovidVaccine', 'COVISH...               VaxBlr  \n",
       "228205                                       ['SputnikV']  Twitter for Android  \n",
       "228206  ['URBAN', 'Bengaluru', 'CovidVaccine', 'COVISH...               VaxBlr  \n",
       "\n",
       "[116057 rows x 10 columns]"
      ]
     },
     "execution_count": 19,
     "metadata": {},
     "output_type": "execute_result"
    }
   ],
   "source": [
    "df_tweets_2"
   ]
  },
  {
   "cell_type": "markdown",
   "metadata": {},
   "source": [
    "Un dato interesante es ver de donde son la mayor cantidad de tweets"
   ]
  },
  {
   "cell_type": "code",
   "execution_count": 20,
   "metadata": {},
   "outputs": [
    {
     "data": {
      "text/plain": [
       "Bengaluru, India                  7237\n",
       "India                             6335\n",
       "New Delhi, India                  2369\n",
       "Toronto, Canada  and Worldwide    1828\n",
       "United States                     1508\n",
       "                                  ... \n",
       "here & now (...San Diego, CA)        1\n",
       "Oak Ridge, TN                        1\n",
       "Camrose, Alberta, Canada             1\n",
       "Gold Saucer                          1\n",
       "Southern  Africa                     1\n",
       "Name: user_location, Length: 21255, dtype: int64"
      ]
     },
     "execution_count": 20,
     "metadata": {},
     "output_type": "execute_result"
    }
   ],
   "source": [
    "df_tweets_2[\"user_location\"].value_counts()"
   ]
  }
 ],
 "metadata": {
  "kernelspec": {
   "display_name": "Python 3 (ipykernel)",
   "language": "python",
   "name": "python3"
  },
  "language_info": {
   "codemirror_mode": {
    "name": "ipython",
    "version": 3
   },
   "file_extension": ".py",
   "mimetype": "text/x-python",
   "name": "python",
   "nbconvert_exporter": "python",
   "pygments_lexer": "ipython3",
   "version": "3.9.13"
  },
  "vscode": {
   "interpreter": {
    "hash": "ad3b0cd1acfef684cc2fde4e9122a3101adc2b8d9568ead10c63363fe6c1f032"
   }
  }
 },
 "nbformat": 4,
 "nbformat_minor": 2
}
